{
 "cells": [
  {
   "cell_type": "markdown",
   "metadata": {},
   "source": [
    "#### _Speech Processing Labs: SIGNALS 1: Digital Speech Signals_"
   ]
  },
  {
   "cell_type": "code",
   "execution_count": 1,
   "metadata": {},
   "outputs": [],
   "source": [
    "## Press shift-enter to run this first! or else press the Run button when running on a notebook server\n",
    "%matplotlib inline\n",
    "import matplotlib.pyplot as plt\n",
    "import numpy as np\n",
    "\n",
    "import cmath\n",
    "from math import floor\n",
    "from matplotlib.animation import FuncAnimation\n",
    "from IPython.display import HTML, display, Audio\n",
    "plt.style.use('ggplot')\n",
    "\n",
    "from numpy.fft import fft\n",
    "\n"
   ]
  },
  {
   "cell_type": "markdown",
   "metadata": {},
   "source": [
    "# Working with Digital Signals\n",
    "\n",
    "This is the lab corresponding to [module 3: Digital Speech Signals](https://speech.zone/courses/speech-processing/module-3-digital-speech-signals/) of the Speech Processing course.  \n",
    "\n",
    "## Learning Outcomes\n",
    "\n",
    "* Understand how spectrograms relate to the Discrete Fourier Transform\n",
    "* Understand how DFT output is affected by design choices, e.g., input window size, sampling rate, windowing type\n",
    "* Understand how how digital signals can be combined through superposition\n",
    "* Understand how spectral leakage can affect spectrograms\n",
    "* Understand how aliasing can affect digital sound recordings\n",
    "* See how digital signals can be can be visualised using a range of plot types\n",
    "\n",
    "## Background\n",
    "\n",
    "* Speech Zone Module 3 videos: up to and including [Frequency Domain](https://speech.zone/courses/speech-processing/module-3-digital-speech-signals/)\n",
    "* Reading: R. Waytree (2019) Phonetics: a practical perspective, Chapters 6 and 7\n",
    "\n",
    "\n",
    "## A Note on coding\n",
    "\n",
    "The code below and throughout these notebooks is for generating visualisations, to show some concrete steps for doing this sort of analysis, and to allow you to alter parameters and see what the effect is.  But for this course, you don't have to understand every line of code unless you really want to. It's fine just to run the code and look at the output. \n",
    "\n",
    "Extension: If you have some python experience, you can try coding up some of the cells below yourself!   "
   ]
  },
  {
   "cell_type": "markdown",
   "metadata": {},
   "source": [
    "# Plotting waveforms and spectrograms in python\n",
    "\n",
    "You've seen a spectrogram in Praat, but you can also do this in python! This might be helpful for you later on when writing reports. \n",
    "\n",
    "In this notebook, we'll use the general purpose python package [matplotlib](https://matplotlib.org) to make plots.  To handle audio data we'll use the [librosa](https://librosa.org/doc/latest/index.html) package. Matplotlib is pre-installed in the [Edina Noteable](https://noteable.edina.ac.uk/resources/) standard notebook, but librosa isn't.  We can install it now using the commanding the next cell:\n"
   ]
  },
  {
   "cell_type": "markdown",
   "metadata": {},
   "source": [
    "## Install and import Librosa\n",
    "\n",
    "The following code cell will install the librosa package into your current python environment \n",
    "\n",
    "Breaking it down: \n",
    "The `!` at the beginning of the line tells jupyter notebook to run the command that follows as if it's on the unix shell (i.e., on the command line).  [`pip`](https://pypi.org/project/pip/) is a command line program that can install python packages (i.e., code collections) for you.  So, the command `pip install librosa` installs the package librosa for us.  If it's already installed it'll give you several \"requirement already satisfied\" messages. "
   ]
  },
  {
   "cell_type": "code",
   "execution_count": 2,
   "metadata": {},
   "outputs": [
    {
     "name": "stdout",
     "output_type": "stream",
     "text": [
      "Requirement already satisfied: librosa in /Users/clai/.brew/Caskroom/miniconda/base/lib/python3.12/site-packages (0.10.2.post1)\n",
      "Requirement already satisfied: audioread>=2.1.9 in /Users/clai/.brew/Caskroom/miniconda/base/lib/python3.12/site-packages (from librosa) (3.0.1)\n",
      "Requirement already satisfied: numpy!=1.22.0,!=1.22.1,!=1.22.2,>=1.20.3 in /Users/clai/.brew/Caskroom/miniconda/base/lib/python3.12/site-packages (from librosa) (2.0.2)\n",
      "Requirement already satisfied: scipy>=1.2.0 in /Users/clai/.brew/Caskroom/miniconda/base/lib/python3.12/site-packages (from librosa) (1.14.1)\n",
      "Requirement already satisfied: scikit-learn>=0.20.0 in /Users/clai/.brew/Caskroom/miniconda/base/lib/python3.12/site-packages (from librosa) (1.5.2)\n",
      "Requirement already satisfied: joblib>=0.14 in /Users/clai/.brew/Caskroom/miniconda/base/lib/python3.12/site-packages (from librosa) (1.4.2)\n",
      "Requirement already satisfied: decorator>=4.3.0 in /Users/clai/.brew/Caskroom/miniconda/base/lib/python3.12/site-packages (from librosa) (5.1.1)\n",
      "Requirement already satisfied: numba>=0.51.0 in /Users/clai/.brew/Caskroom/miniconda/base/lib/python3.12/site-packages (from librosa) (0.60.0)\n",
      "Requirement already satisfied: soundfile>=0.12.1 in /Users/clai/.brew/Caskroom/miniconda/base/lib/python3.12/site-packages (from librosa) (0.12.1)\n",
      "Requirement already satisfied: pooch>=1.1 in /Users/clai/.brew/Caskroom/miniconda/base/lib/python3.12/site-packages (from librosa) (1.8.2)\n",
      "Requirement already satisfied: soxr>=0.3.2 in /Users/clai/.brew/Caskroom/miniconda/base/lib/python3.12/site-packages (from librosa) (0.5.0.post1)\n",
      "Requirement already satisfied: typing-extensions>=4.1.1 in /Users/clai/.brew/Caskroom/miniconda/base/lib/python3.12/site-packages (from librosa) (4.12.2)\n",
      "Requirement already satisfied: lazy-loader>=0.1 in /Users/clai/.brew/Caskroom/miniconda/base/lib/python3.12/site-packages (from librosa) (0.4)\n",
      "Requirement already satisfied: msgpack>=1.0 in /Users/clai/.brew/Caskroom/miniconda/base/lib/python3.12/site-packages (from librosa) (1.1.0)\n",
      "Requirement already satisfied: packaging in /Users/clai/.brew/Caskroom/miniconda/base/lib/python3.12/site-packages (from lazy-loader>=0.1->librosa) (23.2)\n",
      "Requirement already satisfied: llvmlite<0.44,>=0.43.0dev0 in /Users/clai/.brew/Caskroom/miniconda/base/lib/python3.12/site-packages (from numba>=0.51.0->librosa) (0.43.0)\n",
      "Requirement already satisfied: platformdirs>=2.5.0 in /Users/clai/.brew/Caskroom/miniconda/base/lib/python3.12/site-packages (from pooch>=1.1->librosa) (3.10.0)\n",
      "Requirement already satisfied: requests>=2.19.0 in /Users/clai/.brew/Caskroom/miniconda/base/lib/python3.12/site-packages (from pooch>=1.1->librosa) (2.32.2)\n",
      "Requirement already satisfied: threadpoolctl>=3.1.0 in /Users/clai/.brew/Caskroom/miniconda/base/lib/python3.12/site-packages (from scikit-learn>=0.20.0->librosa) (3.5.0)\n",
      "Requirement already satisfied: cffi>=1.0 in /Users/clai/.brew/Caskroom/miniconda/base/lib/python3.12/site-packages (from soundfile>=0.12.1->librosa) (1.16.0)\n",
      "Requirement already satisfied: pycparser in /Users/clai/.brew/Caskroom/miniconda/base/lib/python3.12/site-packages (from cffi>=1.0->soundfile>=0.12.1->librosa) (2.21)\n",
      "Requirement already satisfied: charset-normalizer<4,>=2 in /Users/clai/.brew/Caskroom/miniconda/base/lib/python3.12/site-packages (from requests>=2.19.0->pooch>=1.1->librosa) (2.0.4)\n",
      "Requirement already satisfied: idna<4,>=2.5 in /Users/clai/.brew/Caskroom/miniconda/base/lib/python3.12/site-packages (from requests>=2.19.0->pooch>=1.1->librosa) (3.7)\n",
      "Requirement already satisfied: urllib3<3,>=1.21.1 in /Users/clai/.brew/Caskroom/miniconda/base/lib/python3.12/site-packages (from requests>=2.19.0->pooch>=1.1->librosa) (2.2.2)\n",
      "Requirement already satisfied: certifi>=2017.4.17 in /Users/clai/.brew/Caskroom/miniconda/base/lib/python3.12/site-packages (from requests>=2.19.0->pooch>=1.1->librosa) (2024.8.30)\n"
     ]
    }
   ],
   "source": [
    "!pip install librosa"
   ]
  },
  {
   "cell_type": "code",
   "execution_count": null,
   "metadata": {},
   "outputs": [],
   "source": []
  },
  {
   "cell_type": "markdown",
   "metadata": {},
   "source": [
    "\n",
    "\n",
    "Now to use `librosa` in the notebook we need to import it (as we did for various packages up the top). "
   ]
  },
  {
   "cell_type": "code",
   "execution_count": 3,
   "metadata": {},
   "outputs": [],
   "source": [
    "import librosa"
   ]
  },
  {
   "cell_type": "markdown",
   "metadata": {},
   "source": [
    "## Load a sound file with librosa\n",
    "\n",
    "Now let's [load a sound file](https://librosa.org/doc/latest/generated/librosa.load.html) that's already in our repo and make a html audio widget to play it in the notebook. \n",
    "It's a short recording of a violin playing a single note.  \n",
    "\n",
    "Note, in the python cells below lines starting with `#` are comments: They are explanations and ignored when running the code. "
   ]
  },
  {
   "cell_type": "code",
   "execution_count": 4,
   "metadata": {},
   "outputs": [
    {
     "data": {
      "text/html": [
       "\n",
       "                <audio  controls=\"controls\" >\n",
       "                    <source src=\"data:audio/wav;base64,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\" type=\"audio/wav\" />\n",
       "                    Your browser does not support the audio element.\n",
       "                </audio>\n",
       "              "
      ],
      "text/plain": [
       "<IPython.lib.display.Audio object>"
      ]
     },
     "execution_count": 4,
     "metadata": {},
     "output_type": "execute_result"
    }
   ],
   "source": [
    "## Set the variable 'filename' to the path of the file\n",
    "## You can read the file path as directions for how to get to the file: \n",
    "## i.e., \"..\" = up a directory, then into the 'sounds' directory, then the actual filename\n",
    "filename = \"../sounds/violin_A4_05_forte_arco-normal.wav\"\n",
    "\n",
    "## Load the waveform amplitudes y from the file and also get the sampling rate sr\n",
    "y, sr = librosa.load(filename)\n",
    "\n",
    "## Make an html audio widget so you can listen to the audio from this notebook\n",
    "Audio(data=y, rate=sr)"
   ]
  },
  {
   "cell_type": "markdown",
   "metadata": {},
   "source": [
    "We've loaded the mp3 file and returned two outputs, which are stored in the variables `y` and `sr`:\n",
    "* `y`: The waveform (i.e. amplitude sequence)\n",
    "* `sr`: The sampling rate of the recording - this will have the value 22050 Hz. \n",
    "\n",
    "**Task:** Try changing the sample rate in the following while keeping `y` the same.  \n"
   ]
  },
  {
   "cell_type": "code",
   "execution_count": 5,
   "metadata": {},
   "outputs": [
    {
     "data": {
      "text/plain": [
       "22050"
      ]
     },
     "execution_count": 5,
     "metadata": {},
     "output_type": "execute_result"
    }
   ],
   "source": [
    "## Inspect the value of the variable sr\n",
    "sr"
   ]
  },
  {
   "cell_type": "code",
   "execution_count": 6,
   "metadata": {},
   "outputs": [],
   "source": [
    "## Make an audio widget that plays y but change the sample rate to 16000\n",
    "## Uncomment the following line by deleting the \"#\" at the beginning and change XXXX to the \n",
    "## sample rate you want\n",
    "# Audio(data=y, rate=XXX)"
   ]
  },
  {
   "cell_type": "markdown",
   "metadata": {},
   "source": [
    "**Question:** What happened when you changed the sampling rate? What about the sound changed? Why did this happen? "
   ]
  },
  {
   "cell_type": "markdown",
   "metadata": {},
   "source": [
    "### Inspecting the audio (and some python warmups)\n",
    "Let's look at `y` first.  You can inspect the contents of a variable by inputting it as the last line in a code cell and running the cell:"
   ]
  },
  {
   "cell_type": "code",
   "execution_count": 7,
   "metadata": {},
   "outputs": [
    {
     "data": {
      "text/plain": [
       "array([-7.2759576e-11, -8.7311491e-11, -4.3655746e-11, ...,\n",
       "        0.0000000e+00,  0.0000000e+00,  0.0000000e+00], dtype=float32)"
      ]
     },
     "execution_count": 7,
     "metadata": {},
     "output_type": "execute_result"
    }
   ],
   "source": [
    "## inspect the y variable that \"holds\" our waveform \n",
    "y"
   ]
  },
  {
   "cell_type": "markdown",
   "metadata": {},
   "source": [
    "You should see a formatted version of an array of numbers (i.e., a list of numbers, but more efficiently represented for our purposes using the package [numpy](https://numpy.org) - a python package that, for our purposes, makes dealing with vectors and matrices easier). These numbers are the amplitude samples that make up the audio recording ordered in time.  \n",
    "\n",
    "We can access elements of this array by their index, where we start the index at 0.  So: `y[2]` is the 3rd sample in this array, `y[10]` is the 11th samples in the array, etc. \n"
   ]
  },
  {
   "cell_type": "code",
   "execution_count": 8,
   "metadata": {},
   "outputs": [
    {
     "data": {
      "text/plain": [
       "np.float32(1.4551915e-11)"
      ]
     },
     "execution_count": 8,
     "metadata": {},
     "output_type": "execute_result"
    }
   ],
   "source": [
    "y[10]"
   ]
  },
  {
   "cell_type": "markdown",
   "metadata": {},
   "source": [
    "You should see a number that looks something like `-2.3283064e-10` as the output of the previous cell (since these are very small values there may be some differences in what you actually see - if the sound plays fine, don't worry!).  This is the amplitude value for the 11th sample in scientific notation: the `e-10` is intepreted as `10^{-10}`, so the overall expression is $-2.3283064 \\times 10^{-10}$, which is a very small number!  If we round this to 9 decimal places, we'll see python just prints out `-0.0`"
   ]
  },
  {
   "cell_type": "code",
   "execution_count": 9,
   "metadata": {},
   "outputs": [
    {
     "data": {
      "text/plain": [
       "np.float32(0.0)"
      ]
     },
     "execution_count": 9,
     "metadata": {},
     "output_type": "execute_result"
    }
   ],
   "source": [
    "round(y[10],9)"
   ]
  },
  {
   "cell_type": "markdown",
   "metadata": {},
   "source": [
    "Now, we can check what sort of array this is and the number of samples in our waveform `y` by checking the 'shape' of the array. We can do this with numpy `shape` attribute:"
   ]
  },
  {
   "cell_type": "code",
   "execution_count": 10,
   "metadata": {},
   "outputs": [
    {
     "data": {
      "text/plain": [
       "(31104,)"
      ]
     },
     "execution_count": 10,
     "metadata": {},
     "output_type": "execute_result"
    }
   ],
   "source": [
    "## inspect y.shape\n",
    "y.shape"
   ]
  },
  {
   "cell_type": "markdown",
   "metadata": {},
   "source": [
    "You should see the output `(31104,`) which means that it's a 1 dimensional array of 31104 numbers. The following shows how you can set another variable `n_samples` to be the number of number of elements in `y`, and then use that variable to print out a print statement. "
   ]
  },
  {
   "cell_type": "code",
   "execution_count": 11,
   "metadata": {},
   "outputs": [
    {
     "name": "stdout",
     "output_type": "stream",
     "text": [
      "The number of samples in y is 31104\n"
     ]
    }
   ],
   "source": [
    "## Set n_samples to the first (0th) value of y.shape.  In a matrix this would be the number of rows\n",
    "n_samples = y.shape[0]\n",
    "\n",
    "## print out n_samples\n",
    "print(f\"The number of samples in y is {n_samples}\")"
   ]
  },
  {
   "cell_type": "markdown",
   "metadata": {},
   "source": [
    "The `f\"...\"` in the print statement tells python to substitute the bits between `{` and `}` with the value of the variable named there.  So in the code above we get value of `n_samples` (31104) in the output of the cell. \n",
    "\n",
    "\n",
    "**Task:** Try writing a print statement to see what the sampling rate `sr` is in the following cell"
   ]
  },
  {
   "cell_type": "code",
   "execution_count": 12,
   "metadata": {},
   "outputs": [],
   "source": [
    "## Add a line here to print out the sampling rate (you can copy the previous print statement as a template) \n"
   ]
  },
  {
   "cell_type": "markdown",
   "metadata": {},
   "source": [
    "You should see that the sampling rate is 22050 samples per second (since we're talking about frequency of sampling, people often just use Hertz as the unit for sampling rate).\n",
    "\n",
    "We can do basic arithmetic in notebooks using the following symbols\n",
    "* `+`: addition\n",
    "* `-`: subtraction/negative\n",
    "* `*`: multiplication\n",
    "* `/`: division\n",
    "* `**`: exponentiation ('to the power of')\n",
    "\n",
    "For example: running the following cell with the expression `((2**2)*4 + 5)/7` should give you the answer `3`\n",
    "(if you're not sure why - ask!)"
   ]
  },
  {
   "cell_type": "code",
   "execution_count": 13,
   "metadata": {},
   "outputs": [
    {
     "data": {
      "text/plain": [
       "3.0"
      ]
     },
     "execution_count": 13,
     "metadata": {},
     "output_type": "execute_result"
    }
   ],
   "source": [
    "((2**2)*4 + 5)/7"
   ]
  },
  {
   "cell_type": "markdown",
   "metadata": {},
   "source": [
    "**Question:** the sampling rate is the number of samples per second (evenly spaced!).  So what is the sampling period? i.e., how long is there between each sample?  \n",
    "\n",
    "**Task:** Calculate the sample period given the sample rate `sr` we retrieved earlier and store it in the variable `sample_period`.  \n",
    "\n",
    "_These are just some tasks to get you used to python notebooks.  If you've never done any coding before and are stuck, ask for help!_"
   ]
  },
  {
   "cell_type": "code",
   "execution_count": null,
   "metadata": {},
   "outputs": [
    {
     "name": "stdout",
     "output_type": "stream",
     "text": [
      "The sample period is 4.5351473922902495e-05\n"
     ]
    }
   ],
   "source": [
    "## write a statement to calculate the sample period  as 1/sr\n",
    "## i.e., sample_period = ...\n",
    "\n",
    "## print out the sample period: change XXXXX\n",
    "print(f\"The sample period is XXXX\")"
   ]
  },
  {
   "cell_type": "markdown",
   "metadata": {},
   "source": [
    "**Task:** Calculate the total duration of the wavefile based on the sample period `sample_period` and the number of samples in the file `n_samples`"
   ]
  },
  {
   "cell_type": "code",
   "execution_count": null,
   "metadata": {},
   "outputs": [
    {
     "ename": "NameError",
     "evalue": "name 'sample_period' is not defined",
     "output_type": "error",
     "traceback": [
      "\u001b[0;31m---------------------------------------------------------------------------\u001b[0m",
      "\u001b[0;31mNameError\u001b[0m                                 Traceback (most recent call last)",
      "Cell \u001b[0;32mIn[16], line 3\u001b[0m\n\u001b[1;32m      1\u001b[0m \u001b[38;5;66;03m## Calculate the duration of the waveform: fill in XXX below\u001b[39;00m\n\u001b[0;32m----> 3\u001b[0m \u001b[38;5;28mprint\u001b[39m(\u001b[38;5;124mf\u001b[39m\u001b[38;5;124m\"\u001b[39m\u001b[38;5;124mThe duration of y is \u001b[39m\u001b[38;5;132;01m{\u001b[39;00m\u001b[43msample_period\u001b[49m\u001b[38;5;241m*\u001b[39mn_samples\u001b[38;5;132;01m}\u001b[39;00m\u001b[38;5;124m seconds\u001b[39m\u001b[38;5;124m\"\u001b[39m)\n",
      "\u001b[0;31mNameError\u001b[0m: name 'sample_period' is not defined"
     ]
    }
   ],
   "source": [
    "## Calculate the duration of the waveform: fill in XXX below\n",
    "\n",
    "print(f\"The duration of y is XXX seconds\")"
   ]
  },
  {
   "cell_type": "markdown",
   "metadata": {},
   "source": [
    "## Visualising the waveform\n",
    "Now let's make a visualisation of the waveform as a time vs amplitude plot. Remember that our array `y` only included the amplitude values ordered in time. So, we need to figure out what the actual time values are based on the sampling period, which we worked out above from the sampling rate `sr`.  \n"
   ]
  },
  {
   "cell_type": "code",
   "execution_count": null,
   "metadata": {},
   "outputs": [],
   "source": [
    "# We divide 1 second by the number of samples per second to get the sampling period\n",
    "# we use \":.10f\" to format the sample_period to 10 decimal places.\n",
    "sample_period = 1/sr\n",
    "print(f\"The time between samples is  {sample_period:.10f} seconds\")"
   ]
  },
  {
   "cell_type": "markdown",
   "metadata": {},
   "source": [
    "Lucky for us, librosa figures out sample times for us when we use the function `waveshow`.  This just plots the times vs the amplitudes stored in `y`, but it has some waveform specifics that make what's happening a bit clearer (and prettier?) than the default matplotlib plot function (which we'll use later).   "
   ]
  },
  {
   "cell_type": "code",
   "execution_count": null,
   "metadata": {},
   "outputs": [],
   "source": [
    "## Create a matplotlib plot - yes, matplotlib syntax is unintuitive! But it's the most \n",
    "## widely used python plotting package out there, so worth knowing a bit about. \n",
    "## try changing the numbers in setting figsize to see what that does\n",
    "\n",
    "fig, ax = plt.subplots(figsize=(16,4))\n",
    "\n",
    "## set some parameters about the plot:\n",
    "## xlim: the range of the x-axis\n",
    "## ylim: the range of the y-axis\n",
    "## title: The title of the plot\n",
    "ax.set(xlim=[0.0, 1.0], title='Sample view', ylim=[-0.2, 0.2])\n",
    "\n",
    "## Make the actual time vs amplitude plot\n",
    "librosa.display.waveshow(y, sr=sr, ax=ax, color='red', label='waveform')\n",
    "\n",
    "## include the automatically generated legend, though this is not very informative at the moment! \n",
    "ax.legend()\n"
   ]
  },
  {
   "cell_type": "markdown",
   "metadata": {},
   "source": [
    "**Task:** change the values for `xlim` and `ylim` to zoom into the waveform until you can see some actual pitch periods. What is the F0 of this waveform? (You can calculate it the same way as for the Praat labs, count the number of cycles for a given time interval to find out the time of one cycle)."
   ]
  },
  {
   "cell_type": "code",
   "execution_count": null,
   "metadata": {},
   "outputs": [],
   "source": []
  },
  {
   "cell_type": "markdown",
   "metadata": {},
   "source": [
    "### Plot the spectrogram \n",
    "\n",
    "Now let's look at a spectrogram.  To generate a spectrogram we apply the DFT to the sequence of frames (i.e. DFT input windows) from the waveform.\n",
    "\n",
    "We do this with the [librosa function stft](https://librosa.org/doc/latest/generated/librosa.stft.html#librosa.stft) (short-time fourier transform). To get the magnitude spectrum, we take absolute value of the DFT output.\n",
    "\n",
    "**Note:** The frequency-colour map that librosa produces is different to praat.  Here dark colours mean frequences have low magnitudes, lighter colours mean frequencies have higher magnitudes  (basically the opposite of Praat!)"
   ]
  },
  {
   "cell_type": "code",
   "execution_count": null,
   "metadata": {},
   "outputs": [],
   "source": [
    "## Apply the DFT over frames through the waveform\n",
    "y_stft = librosa.stft(y)\n",
    "\n",
    "## Get the magnitude spectrum by take the absolute value of the DFT output at each frame\n",
    "mags = np.abs(y_stft)\n",
    "\n",
    "## Setup a plot\n",
    "fig, ax = plt.subplots(figsize=(16,4))\n",
    "\n",
    "## plot the spectogram, showing the y_axis (frequencies) on a linear scale. \n",
    "librosa.display.specshow(librosa.amplitude_to_db(mags, ref=np.max), y_axis='linear', x_axis='time', ax=ax)\n",
    "\n"
   ]
  },
  {
   "cell_type": "markdown",
   "metadata": {},
   "source": [
    "You should be able to see a colored spectrogram with a fairly clear and stable harmonic structure.  But how do we know what the window size was? \n",
    "\n",
    "To find this out we need to check the [librosa manual page description of the stft function](https://librosa.org/doc/latest/generated/librosa.stft.html#librosa.stft), specifically the definition of the `n_fft` parameter: \n",
    "<blockquote>\n",
    "The length of the windowed signal after padding with zeros. The number of rows in the STFT matrix D is (1 + n_fft/2). <b>The default value, n_fft=2048 samples</b>, corresponds to a physical duration of 93 milliseconds at a sample rate of 22050 Hz, i.e. the default sample rate in librosa. This value is well adapted for music signals. However, in speech processing, the recommended value is 512, corresponding to 23 milliseconds at a sample rate of 22050 Hz. In any case, we recommend setting n_fft to a power of two for optimizing the speed of the fast Fourier transform (FFT) algorithm.\n",
    "    \n",
    "</blockquote>\n",
    "\n",
    "So, if we don't specify anything, the default size of the input to the DFT is 2048 samples, which is equivalent to 93 milliseconds, when the sampling rate is 22050 Hz (**task:** verify this window size for yourself).  \n",
    "\n"
   ]
  },
  {
   "cell_type": "markdown",
   "metadata": {},
   "source": [
    "### Changing the DFT input widow size\n",
    "Ok, let's look at what happens when we change `n_fft` to the recommended 512 samples for speech processing:\n"
   ]
  },
  {
   "cell_type": "code",
   "execution_count": null,
   "metadata": {},
   "outputs": [],
   "source": [
    "\n",
    "## get the magnitude spectrums using windows of 512*(1/sr) seconds \n",
    "N=512\n",
    "filename = \"../sounds/violin_A4_05_forte_arco-normal.wav\"\n",
    "y, sr = librosa.load(filename)\n",
    "mags = np.abs(librosa.stft(y, n_fft=N))\n",
    "\n",
    "## plot the spectrogram\n",
    "## Because we're not using the default n_fft anymore, we also have to tell the specshow function what \n",
    "## the hop_length is (i.e. what the shift in time between each window).  \n",
    "## This is set to n_fft/4 by default in stft \n",
    "## (the '//' means return and integer value for the division, to ensure we get a whole number as the hop_length). \n",
    "fig, ax = plt.subplots(figsize=(16,4))\n",
    "librosa.display.specshow(librosa.amplitude_to_db(mags, ref=np.max), sr=sr, n_fft=N, hop_length=N//4,\n",
    "                         y_axis='linear', x_axis='s', ax=ax)\n"
   ]
  },
  {
   "cell_type": "markdown",
   "metadata": {},
   "source": [
    "**Question:** What changed in the spectrogram comparing the orignal with `n_fft=2048` and then with `n_fft=512`?\n",
    "What are the differences in terms of the visible frequency structure (e.g. formants) and the temporal structure? \n",
    "\n",
    "\n"
   ]
  },
  {
   "cell_type": "code",
   "execution_count": null,
   "metadata": {},
   "outputs": [],
   "source": []
  },
  {
   "cell_type": "markdown",
   "metadata": {},
   "source": [
    "In general, the bigger the DFT input window the more frequency resolution, but this is a tradeoff with the temporal resolution: we see more detail on changes in time with smaller DFT input windows. \n",
    "\n",
    "For this specific violin example, the window size change how how well we can see changes in the energy in corresponding to the vibrato (i.e. wobbling of the notes). If we reduce the window size further the individual frequency information will start to blur. Try it out for yourself by changing `N` below! "
   ]
  },
  {
   "cell_type": "code",
   "execution_count": null,
   "metadata": {},
   "outputs": [],
   "source": [
    "## set the number of samples to include in each input window as N - try N=128 as an example\n",
    "N=512\n",
    "\n",
    "## Calculate the magnitude spectrum\n",
    "mags = np.abs(librosa.stft(y, n_fft=N))\n",
    "\n",
    "## plot the spectrogram\n",
    "fig, ax = plt.subplots(figsize=(16,4))\n",
    "librosa.display.specshow(librosa.amplitude_to_db(mags, ref=np.max), y_axis='linear', x_axis='time', ax=ax, n_fft=N, hop_length=N//4)\n",
    "\n"
   ]
  },
  {
   "cell_type": "markdown",
   "metadata": {},
   "source": [
    "## Varying the pitch \n",
    "\n",
    "Now let's look at another violin recording of a note at a different pitch: "
   ]
  },
  {
   "cell_type": "code",
   "execution_count": null,
   "metadata": {},
   "outputs": [],
   "source": [
    "## open the file violin_A3_15_forte_arco-normal.mp3 from the sounds directory\n",
    "filename = \"../sounds/violin_A3_15_forte_arco-normal.mp3\"\n",
    "\n",
    "## read in the wave information as y2 \n",
    "y2, sr2 = librosa.load(filename)\n",
    "\n",
    "## make an audio widget to play it\n",
    "Audio(data=y2, rate=sr2)\n"
   ]
  },
  {
   "cell_type": "markdown",
   "metadata": {},
   "source": [
    "Let's plot the spectrograms for the two recordings side by side"
   ]
  },
  {
   "cell_type": "code",
   "execution_count": null,
   "metadata": {},
   "outputs": [],
   "source": [
    "## get the mag spectrums for y2\n",
    "N=512\n",
    "mags1 = np.abs(librosa.stft(y, n_fft=N))\n",
    "mags2 = np.abs(librosa.stft(y2, n_fft=N))\n",
    "\n",
    "## This time let's make two plots side by side, we can refer to them with the variables ax1 and ax2\n",
    "fig, (ax1, ax2)  = plt.subplots(nrows=1, ncols=2, figsize=(16,4))\n",
    "\n",
    "## Plot the spectrogram of the previous recording in ax1 (left)\n",
    "ax1.set(title=\"Violin A4\")\n",
    "librosa.display.specshow(librosa.amplitude_to_db(mags1, ref=np.max), sr=sr, n_fft=N, hop_length=N//4,\n",
    "                         y_axis='linear', x_axis='time', ax=ax1)\n",
    "\n",
    "## Plot the spectrogram of the other recording in ax2 (right)\n",
    "ax2.set(title=\"Violin A3\")\n",
    "librosa.display.specshow(librosa.amplitude_to_db(mags2, ref=np.max),sr=sr, n_fft=N, hop_length=N//4,\n",
    "                         y_axis='linear', x_axis='time', ax=ax2)"
   ]
  },
  {
   "cell_type": "markdown",
   "metadata": {},
   "source": [
    "**Question:** \n",
    "What's the main difference in the spectrograms? How is this related to the audible difference in pitch between the two samples? \n"
   ]
  },
  {
   "cell_type": "code",
   "execution_count": null,
   "metadata": {},
   "outputs": [],
   "source": []
  },
  {
   "cell_type": "markdown",
   "metadata": {},
   "source": [
    "### Optional: Extracting F0 contours\n",
    "\n",
    "_This part on extracting F0 in librosa is a bit of a side-quest.  You can skip it if you're pressed for time_\n",
    "\n",
    "We can extract Fundamental frequency (F0) values for the two recordings to verify the perceptual relationship between F0 and perceived pitch.  Here we'll use librosa's [F0 extractor which uses the Yin method](https://librosa.org/doc/latest/generated/librosa.pyin.html#librosa.pyin)."
   ]
  },
  {
   "cell_type": "code",
   "execution_count": null,
   "metadata": {},
   "outputs": [],
   "source": [
    "## Estimate the fundamental frequency over sliding windows of 512 samples\n",
    "## We set the minimum potential frequency to 50 Hz, and maximum to 600 Hz.  \n",
    "## Proper setting of min and max usually necessary to get good F0 estimates for speech research\n",
    "## though obviously other instruments can go a lot higher or lower. \n",
    "N=512\n",
    "f0_a4, _, _  = librosa.pyin(y=y, sr=sr, fmin=50, fmax=600, frame_length=N)\n",
    "\n",
    "## Get the times for the f0 samples based on the sample rate\n",
    "times_a4 = librosa.times_like(f0_a4, sr=sr, hop_length=N//4)\n",
    "\n",
    "f0_a3, _ , _  = librosa.pyin(y=y2, sr=sr, fmin=50, fmax=600, frame_length=N)\n",
    "times_a3 = librosa.times_like(f0_a3, sr=sr, hop_length=N//4)\n"
   ]
  },
  {
   "cell_type": "markdown",
   "metadata": {},
   "source": [
    "Let's have a look at what this got us for the \"A4\" recording (`y`, `f0_a4`), versus the \"A3\" recording (`y2`, `f0_a3`):"
   ]
  },
  {
   "cell_type": "code",
   "execution_count": null,
   "metadata": {},
   "outputs": [],
   "source": [
    "f0_a4"
   ]
  },
  {
   "cell_type": "code",
   "execution_count": null,
   "metadata": {},
   "outputs": [],
   "source": [
    "f0_a3"
   ]
  },
  {
   "cell_type": "markdown",
   "metadata": {},
   "source": [
    "So, the extracted F0 (i.e. pitch) values for the A4 recording are generally around 441 Hz, while the F0 for the A3 recording is around 220 Hz. If you're a musician you will have noticed that they are 1 octave in difference (by definition \"A4\" should be 440Hz). \n",
    "\n",
    "Let's plot the F0 values: \n"
   ]
  },
  {
   "cell_type": "code",
   "execution_count": null,
   "metadata": {},
   "outputs": [],
   "source": [
    "fig, ax = plt.subplots(figsize=(16,4))\n",
    "ax.plot(times_a4, f0_a4, linewidth=4, color='green', marker=\".\", label='f0: A4')\n",
    "ax.plot(times_a3, f0_a3, linewidth=4, color='magenta', marker=\"x\", label='f0: A3')\n",
    "ax.set(title=\"time vs Fundamental Frequency (F0)\", ylabel=\"Frequency (Hz)\", xlabel=\"Time (s)\")\n",
    "ax.legend()\n"
   ]
  },
  {
   "cell_type": "markdown",
   "metadata": {},
   "source": [
    "So we get what we expect, two slightly wobbly F0 contours at 441Hz and 220Hz. Since they're just holding the one note, this is not very exciting, but we'd expect to see a lot more movement in F0 in human speech! "
   ]
  },
  {
   "cell_type": "markdown",
   "metadata": {},
   "source": [
    "### Combining sounds with different fundamental frequencies\n",
    "\n",
    "So far, all the stuff we have done we can also easily do with Praat.  One thing it's much easier to do in python is manipulate the waveform directly.  It's just an array of numbers!  \n",
    "\n",
    "We can make a new sound by adding the waveform arrays together time wise. It's very easy to add arrays together in python (with numpy!).  The arrays just have to be the same length.  Since our violin recordings aren't quite the same size, let's just that the first 25000 samples (i.e. `(1/sr)*25000 = ?` seconds).  We can change the relative amplitude of each recording by multiplying the amplitude values by a scaling factor (`1` for both in the following, but you can try changing this)"
   ]
  },
  {
   "cell_type": "code",
   "execution_count": null,
   "metadata": {},
   "outputs": [],
   "source": [
    "## Print the overall duration of 25000 samples at sampling rate sr (should be 22050 Hz)\n",
    "print(f\"25000 samples with a sampling rate of {sr} Hz is {(25000/sr)} seconds\")"
   ]
  },
  {
   "cell_type": "code",
   "execution_count": null,
   "metadata": {},
   "outputs": [],
   "source": [
    "# y and y2 together samplewise: \n",
    "# i.e. the nth samples of y and y2 are added together to make the first sample of the \n",
    "# new combined combined waveform: y_combo[n] = y[n] + y2[n]\n",
    "\n",
    "y_combo = 1*y[0:25000]+ 1*y2[0:25000]\n",
    "Audio(data=y_combo, rate=sr)"
   ]
  },
  {
   "cell_type": "markdown",
   "metadata": {},
   "source": [
    "**Question:** what will the fundamental frequency of the combined signal be? What happens if you make the `y` (the A4~440Hz signal) louder? How does the spectrogram change when you do this? \n",
    "\n",
    "**Task:** Change the multipliers for `y` and `y2` above and then use the code below to see how the F0 contour and spectrogram change. "
   ]
  },
  {
   "cell_type": "code",
   "execution_count": null,
   "metadata": {},
   "outputs": [],
   "source": []
  },
  {
   "cell_type": "code",
   "execution_count": null,
   "metadata": {},
   "outputs": [],
   "source": [
    "## Set the number of input samples to the F0 tracker and the DFT to 512\n",
    "N=512\n",
    "\n",
    "## Get the F0 for y_combo.  You'll see here this function also returns\n",
    "## some info about voicing that we'll continue to ignore here! \n",
    "\n",
    "f0_combo, voicing, voicing_probability = librosa.pyin(y=y_combo, sr=sr, fmin=50, fmax=600, frame_length=N)\n",
    "times_combo = librosa.times_like(f0_combo, sr=sr, hop_length=N//4)\n",
    "\n",
    "## Get the magnitude spectrums\n",
    "mags_combo = np.abs(librosa.stft(y_combo, n_fft=N))\n",
    "\n",
    "## Set up the plot\n",
    "fig, ax = plt.subplots(figsize=(16,4))\n",
    "\n",
    "## Plot the spectrogram\n",
    "librosa.display.specshow(librosa.amplitude_to_db(mags_combo, ref=np.max), sr=sr, hop_length=N//4,\n",
    "                         y_axis='linear', x_axis='time', ax=ax)\n",
    "\n",
    "## Add the F0 contour to the same plot (ax)\n",
    "ax.plot(times_combo, f0_combo, linewidth=4, color='green',  label='f0')\n",
    "ax.legend()"
   ]
  },
  {
   "cell_type": "code",
   "execution_count": null,
   "metadata": {},
   "outputs": [],
   "source": []
  },
  {
   "cell_type": "markdown",
   "metadata": {
    "tags": []
   },
   "source": [
    "# Superposition and DFT Analysis Frequencies\n"
   ]
  },
  {
   "cell_type": "markdown",
   "metadata": {},
   "source": [
    "Spectrograms show us how we can use the DFT to analyses the frequency components of a sound waves. This builds on the fact that we create sounds by adding together other sounds.  This addition of waves is often called _superposition_, and is applicable to all sorts of waves (not just sound).\n",
    "\n",
    "The DFT specifically decomposes waves into [sinusoids](https://mathworld.wolfram.com/Sinusoid.html), i.e. sine (or cosine) waves of varying amplitude, frequency and phase. The frequencies of the sinusoids represented by the DFT output depend on the number of input samples the DFT is given and the sampling rate. \n",
    "\n",
    "For an input window containing $N$ samples, recorded at a sampling frequency (aka sampling rate) of $f_s$, the $k$th DFT output is:\n",
    "\n",
    "<div class=\"alert alert-success\">\n",
    "    The <b>frequency</b> associated with DFT[k] is: \n",
    "    $kf_{min}$ = $kf_s/N$ Hz\n",
    "</div>\n",
    "\n",
    "We refer to the frequencies associated with DFT outputs as **analysis frequencies** for a specific DFT setup.  The set of sinusoids with these analysis frequencies forms an **orthogonal basis** that we can use to reconstruct sounds based on a spectrum. The orthogonal basis part means that if we calculate the similarity (~correlation) between any of the sinusoids in the basis, the result will be 0.  \n",
    "\n",
    "**Question:** The lowest analysis frequency is $f_{min} = f_s/N$.  How many cycles would the sinusoid with frequency $f_{min}$ complete in the time corresponding to $N$ samples (i.e. the length of the input window in seconds). _Hint: calculate the period of $f_{min}$, this will give you the time it takes to complete 1 cycle_\n",
    "\n",
    "\n"
   ]
  },
  {
   "cell_type": "code",
   "execution_count": null,
   "metadata": {},
   "outputs": [],
   "source": []
  },
  {
   "cell_type": "markdown",
   "metadata": {},
   "source": [
    "## Some sinusoids, alone and together\n",
    "Let's load and examine some different sine waves as examples, as well as a wave with a sinusoidal shape but increasing frequency in time.\n",
    "\n",
    "**Warning:** This sounds might be very loud over headphones."
   ]
  },
  {
   "cell_type": "code",
   "execution_count": null,
   "metadata": {},
   "outputs": [],
   "source": [
    "## file paths to some sine waves of different frequencies as well as \n",
    "## a wave with a sinusoidal shape but increasing frequency in time (it'll make sense when you listen to it!)\n",
    "sine100 = \"../sounds/sine_100Hz.wav\"\n",
    "sine200 = \"../sounds/sine_200Hz.wav\"\n",
    "sine300 = \"../sounds/sine_300Hz.wav\"\n",
    "sweep = \"../sounds/sweep.wav\"\n",
    "\n",
    "## Read them into different arrays with librosa\n",
    "\n",
    "## Note: sr is getting overwritten each time we call load because we keep storing it\n",
    "## in the same variable \"sr\".  We don't care hear because we know that they are infact\n",
    "## all the same sampling rate, but this is something you might need to look out for \n",
    "## when dealing with other data.  If sine100 had a different sampling rate to sweep then\n",
    "## you could get in trouble just using the last updated value of 'sr'\n",
    "\n",
    "y_100, sr = librosa.load(sine100)\n",
    "y_200, sr = librosa.load(sine200)\n",
    "y_300, sr = librosa.load(sine300)\n",
    "y_sweep, sr = librosa.load(sweep)\n",
    "\n",
    "## Make audio widgets for each of them \n",
    "## We use the 'display' function here to make sure that they all get rendered\n",
    "## If you don't do this, the notebook will only show the last one\n",
    "\n",
    "print(\"Sine wave of 100 Hz\")\n",
    "display(Audio(data=y_100, rate=sr)) # This one is a little hard to hear (for me at least!) but it is there\n",
    "\n",
    "print(\"Sine wave of 200 Hz\")\n",
    "display(Audio(data=y_200, rate=sr))\n",
    "\n",
    "print(\"Sine wave of 300 Hz\")\n",
    "display(Audio(data=y_300, rate=sr))\n",
    "\n",
    "print(\"A frequency sweep\")\n",
    "display(Audio(data=y_sweep, rate=sr))"
   ]
  },
  {
   "cell_type": "markdown",
   "metadata": {},
   "source": [
    "Let's plot the the different sinusoids and verify the frequency differences.  \n",
    "\n",
    "**Matplotlib note:** The following shows how you can make multiple subplots with the same x-axis so you can easily see the frequency differences.  Here we've set the plot to have 4 rows and 1 column. This means there's multiple axes we can use here captured with the variable `axs`.  We an reference each of these by index (0,1,2,3).  \n",
    "\n",
    "We plot each of the waveforms into a separate plot, but make sure they all share the same x-axis setting by setting `sharex=True` when calling the function `subplots`. This means that if you change the `xlim` range for `axs[0]` then it will change the bit of the waveform shown for all of the plots. \n",
    "\n",
    "Note, we're just using the matplotlib `plot` function here rather than the fancier one from librosa.  This means we need to figure out what the actual timestamps should be for each of the samples ourselves.  We can work this out by making an array representing all the sample indices (0,1,...,the number of samples in `y_200` in this case) and then multiplying them all by the sampling period.  \n",
    "\n",
    "We can conveniently do this using the numpy function arange.  You should be able to see what this function does by looking at the output of the following cell (`np.arange(10)`)\n",
    "\n",
    "\n"
   ]
  },
  {
   "cell_type": "code",
   "execution_count": null,
   "metadata": {},
   "outputs": [],
   "source": [
    "np.arange(10)"
   ]
  },
  {
   "cell_type": "code",
   "execution_count": null,
   "metadata": {},
   "outputs": [],
   "source": [
    "## determine the number of samples and the sampling period\n",
    "n_samples = len(y_200)\n",
    "sampling_period = 1/sr\n",
    "\n",
    "## Create an array of sample indices\n",
    "sample_indices = np.arange(0,n_samples)\n",
    "\n",
    "## Get the actual timestamps by multiplying with the sampling_period\n",
    "ts = sample_indices * sampling_period\n",
    "\n",
    "## Set up the 4x1 plot\n",
    "fig, axs = plt.subplots(nrows=4, ncols=1, sharex=True, figsize=(16,8))\n",
    "\n",
    "## Plot the individual sine waves\n",
    "axs[0].plot(ts, y_100, linewidth=1, color='green', label='waveform')\n",
    "axs[1].plot(ts, y_200, linewidth=1, color='green', label='waveform')\n",
    "axs[2].plot(ts, y_300, linewidth=1, color='green', label='waveform')\n",
    "axs[3].plot(ts, y_sweep, linewidth=1, color='green', label='waveform')\n",
    "\n",
    "## Set the x-axis limits to 0 and 0.1 - try changing this! \n",
    "axs[0].set(xlim=[0,0.1])\n"
   ]
  },
  {
   "cell_type": "markdown",
   "metadata": {},
   "source": [
    "With the x-axis range set to (0,0.1) you should be able to see that there are 10 peaks for the 100 Hz sine wave, 20 for the 200 Hz, and 30 for 300 Hz.  For the 'sweep' sound you should see that the peaks get closer together in time, which we perceive as an increase in pitch over time. "
   ]
  },
  {
   "cell_type": "markdown",
   "metadata": {},
   "source": [
    "## A compound wave\n",
    "\n",
    "Now let's add the 100 Hz, 200 Hz, and 300 Hz sine waves together.  \n",
    "**Question:** What would you expect to see in the spectrogram if we input this combined sound wave? \n"
   ]
  },
  {
   "cell_type": "code",
   "execution_count": null,
   "metadata": {},
   "outputs": [],
   "source": [
    "## Add the sine waves together\n",
    "y_sine_combo = y_200 + y_100 + y_300 \n",
    "\n",
    "## Play the combined wave\n",
    "display(Audio(data=y_sine_combo, rate=sr))"
   ]
  },
  {
   "cell_type": "markdown",
   "metadata": {},
   "source": [
    "### Save time, write a function\n",
    "Copying and pasting code is tedious and makes your code more prone to errors. When you find yourself repeating tasks, you should be thinking about writing a function.  Here's one for plotting spectrograms. \n",
    "\n",
    "If you don't know anything about python or coding - don't worry! It's fine just to use the function in the following code blocks. \n"
   ]
  },
  {
   "cell_type": "code",
   "execution_count": null,
   "metadata": {},
   "outputs": [],
   "source": [
    "## the 'def' here says that we're defining a function.a\n",
    "## 'plot_spectrogram' is the function name.\n",
    "## the stuff in the brackets after the name are the input arguments.\n",
    "## Notice that we can set default values for various arguments, like n_fft=512).\n",
    "## This means it will use these values for these variables in the function \n",
    "## if we don't specify them when we call the function. \n",
    "\n",
    "def plot_spectrogram(y, sr, n_fft=512, window_type=\"hann\", figsize=(16,4)): \n",
    "    ## apply the STFT on y\n",
    "    mags = np.abs(librosa.stft(y, n_fft=n_fft, window=window_type))\n",
    "\n",
    "    ## create the plot\n",
    "    fig, ax = plt.subplots(figsize=figsize)\n",
    "    librosa.display.specshow(librosa.amplitude_to_db(mags, ref=np.max), sr=sr, hop_length=n_fft//4, \n",
    "                         y_axis='linear', x_axis='s', ax=ax)\n",
    "\n",
    "    ## return the plot\n",
    "    return fig, ax"
   ]
  },
  {
   "cell_type": "code",
   "execution_count": null,
   "metadata": {},
   "outputs": [],
   "source": [
    "## Let's try out the function\n",
    "N=512\n",
    "fig, ax = plot_spectrogram(y_sine_combo, sr, n_fft=N)\n",
    "\n",
    "## We can still do things to the axis 'ax' that we got as output of the function\n",
    "ax.set(title='Spectrogram: y_sine_combo')\n",
    "\n",
    "## Our combo wave is made up of sine waves with frequencies all less that 1000 Hz, \n",
    "## so let's zoom into to those frequencies:\n",
    "ax.set(ylim=[0, 1000])"
   ]
  },
  {
   "cell_type": "markdown",
   "metadata": {},
   "source": [
    "### Spectral Leakage \n",
    "\n",
    "You should see that there are some bright lines around 100, 200 and 300 Hz but also on the surrounding frequencies.  How can that be if our input wave was only made of those three frequencies?\n"
   ]
  },
  {
   "cell_type": "markdown",
   "metadata": {},
   "source": [
    "**Question**: Can you explain what's happening here?  Start by calculating what the actual DFT analysis frequencies should be.\n",
    "Remember, you can do this if you know:\n",
    "* the sampling rate\n",
    "* the number of samples per frame\n"
   ]
  },
  {
   "cell_type": "code",
   "execution_count": null,
   "metadata": {},
   "outputs": [],
   "source": [
    "## print out the sampling rate of y_sine_combo\n",
    "\n",
    "print(f\"The sample rate of y_sine_combo  is XXXX\")"
   ]
  },
  {
   "cell_type": "code",
   "execution_count": null,
   "metadata": {},
   "outputs": [],
   "source": [
    "## print out the lowest analysis frequency that can be captured by the DFT given the input length\n",
    "## in samples (512 in this case) and the sampling rate (sr) of the recording. \n",
    "\n",
    "print(f\"The DFT output frequencies are multiples of XXXX\")\n"
   ]
  },
  {
   "cell_type": "markdown",
   "metadata": {},
   "source": [
    "### Analysis frequencies and Leakage\n",
    "You should find that the lowest analysis frequency for a sample rate of 22050 Hz and an window size of 512 samples is 43.07 Hz. So, the analysis frequencies captured by the DFT in this case are the integer multiples of that up to the Nyquist Frequency. This means that 100Hz, 200Hz, and 300 Hz all fall between the analysis frequencies. So, their \"presence\" in the input ends up getting \"leaked\" onto (i.e. represented by) surrounding analysis frequencies.  \n",
    "\n",
    "For our specific case the closest analysis frequencies are 86.13, 215.33, 301.46, etc, but we also see positive magnitudes in the spectrum at other nearby frequencies.  \n",
    "\n",
    "How and when this happens is effected the **windowing functions** we apply to input windows (i.e. frames) before applying the DFT. We won't go into it much in this course, but suffice to say there's a reason there are [so many window functions](https://docs.scipy.org/doc/scipy/reference/signal.windows.html) that have been proposed for different tasks! \n",
    "\n"
   ]
  },
  {
   "cell_type": "markdown",
   "metadata": {},
   "source": [
    "**Optional Task:** can you find a window size (in number of samples) that will give you whole number analysis frequencies and also a decent number of samples?  \n",
    "\n",
    "Generate a sine wave that is exactly one of these analysis frequencies.\n",
    "\n",
    "Hint: here are some factors of 22050: 1, 2, 3, 5, 7"
   ]
  },
  {
   "cell_type": "code",
   "execution_count": null,
   "metadata": {},
   "outputs": [],
   "source": [
    "## We get an whole integer analysis frequencies if our DFT input size is ????\n"
   ]
  },
  {
   "cell_type": "markdown",
   "metadata": {},
   "source": [
    "Let's see what happens when we try with a combination of $N=450$ and input frequency $f=147$, since 147 Hz should be an analysis frequencies for $N=450$ and a sampling rate of 22050 Hz.\n",
    "\n",
    "We use the numpy function `linspace` below to get a specific number of samples (`sr*T`), evenly spaced between `0` and and `T`. So if T=1 second we get 22050 samples. "
   ]
  },
  {
   "cell_type": "code",
   "execution_count": null,
   "metadata": {},
   "outputs": [],
   "source": [
    "# make a 1 second sine wave with frequency f=147 Hz\n",
    "T = 1 ## max time\n",
    "sr  = 22050 ## sampling rate\n",
    "f = 147  ## sinusoid frequency\n",
    "\n",
    "## make the time samples, we want sr*T samples evenly space from time 0 to T\n",
    "time_samples = np.linspace(0, T, int(sr*T), endpoint=False)\n",
    "\n",
    "## get the sine wave amplitudes for a frequency f for the time samples we want\n",
    "## We can use numpy's built in sin function for this\n",
    "xs = np.sin(2 * np.pi * f * time_samples)\n",
    "\n",
    "## make a plot\n",
    "fig, ax = plt.subplots(figsize=(16,4))\n",
    "ax.plot(time_samples, xs, linewidth=1, color='green', label='wav')\n",
    "ax.set(xlim=[0,0.1], xlabel=\"Time (s)\", ylabel=\"amplitude\", title=\"A 147 Hz sine wave\")\n"
   ]
  },
  {
   "cell_type": "code",
   "execution_count": null,
   "metadata": {},
   "outputs": [],
   "source": [
    "## Let's listen (147 Hz)\n",
    "display(Audio(data=xs, rate=sr))"
   ]
  },
  {
   "cell_type": "markdown",
   "metadata": {},
   "source": [
    "### Effect of the windowing function \n",
    "\n",
    "Now, if we choose the window size such that the input sine wave frequency is one of the DFT analysis frequencies, we get less leakage: But the amount depends on the windowing function. Let's first try the default, which is the **Hann** window (a generally good all-purpose windowing function)"
   ]
  },
  {
   "cell_type": "code",
   "execution_count": null,
   "metadata": {},
   "outputs": [],
   "source": [
    "## plot the spectrogram with N=450 as the size of the input to the DFT (in samples) \n",
    "## and using the \"hann\" window: this tapers the edges of the window\n",
    "N=450\n",
    "fig, ax = plot_spectrogram(xs, sr=sr, n_fft=N, window_type=\"hann\")\n",
    "ax.set(title=f'Spectrogram of a f={f} Hz sine wav, windows size N={N} samples, Window type = Hann', ylim=[0, 500])"
   ]
  },
  {
   "cell_type": "markdown",
   "metadata": {},
   "source": [
    "Not bad! But we're still still seeing leakage! It turns out that [this a property of the Hann windowing function](https://brianmcfee.net/dstbook-site/content/ch06-dft-properties/Leakage.html): if you apply this windowing function to your input and your input is one of the analysis frequencies, it'll give you some leakage! \n",
    "\n",
    "In this case, our problem goes away if you use a rectangular or 'boxcar' window which is equivalent to no window at all. "
   ]
  },
  {
   "cell_type": "code",
   "execution_count": null,
   "metadata": {
    "tags": []
   },
   "outputs": [],
   "source": [
    "fig, ax = plot_spectrogram(xs, sr=sr, n_fft=450, window_type=\"boxcar\")\n",
    "ax.set(title=f'Spectrogram of a f={f} Hz sine wav, windows size N={N} samples, Window type = boxcar (rectangle)', ylim=[0, 500])"
   ]
  },
  {
   "cell_type": "markdown",
   "metadata": {},
   "source": [
    "Now we seem to have gotten rid of the leakage (at least away from the waveform edges). \n",
    "\n",
    "Does this mean we should just use a rectangular window? Well, no.  It turns out, for speech processing at least,  the advantages of using the Hann shaped window for reducing the amount of leakage overall is outweighed the loss of precision for the specific DFT analysis frequencies.  In general, we are more interested in getting a good estimate of the overall shape of the spectrum rather than specific single frequencies.  However, this isn't the case for all signal processing applications.\n",
    "\n",
    "Librosa allows you to use any of the [windowing functions implemented in the scipy package](https://docs.scipy.org/doc/scipy/reference/generated/scipy.signal.get_window.html#scipy.signal.get_window).  Feel free to try them out to see what they do! You can actually just think of these windowing functions as a type of filter - more on this in module 4!\n",
    "\n"
   ]
  },
  {
   "cell_type": "markdown",
   "metadata": {},
   "source": [
    "# Sampling and Aliasing"
   ]
  },
  {
   "cell_type": "markdown",
   "metadata": {},
   "source": [
    "So far, we've kept with a standard sampling rate, 22050 Hz. What happens if we want to reduce the sampling rate?  This happens a lot for applications like ASR where machine learning models are trained expecting 16kHz and sometimes even 8KHz input. \n",
    "\n",
    "What happens if we just downsample but reducing the number of samples? "
   ]
  },
  {
   "cell_type": "markdown",
   "metadata": {},
   "source": [
    "## Naive downsampling \n",
    "\n",
    "Here's a somewhat naive strategy for for downsampling: \n",
    "If I have N samples per second, and only want M samples per second, I just take every \n",
    "N/Mth one. \n",
    "For example,\n",
    "* If I have 100 samples and I only want 20, then just take every 100/20 = 5th one\n",
    "* If my sampling rate is 22050 but I only want 8000 of them per second, then I take every 22050/8000th of the original samples\n",
    "\n",
    "Let's try down sampling from our original 22050 Hz to 8000 Hz for the \"frequency sweep\" recording. "
   ]
  },
  {
   "cell_type": "code",
   "execution_count": null,
   "metadata": {},
   "outputs": [],
   "source": [
    "## Set the sampling rate of the original recording, orig_sr to 22050 Hz\n",
    "orig_sr = 22050\n",
    "\n",
    "## Set the target sampling rate, target_sr to 8000 Hz\n",
    "target_sr = 8000\n",
    "\n",
    "## Let's try this out on the sweep wave\n",
    "## You can also try adding in the other sine waves to see what happens to them\n",
    "ys = y_sweep\n",
    "\n",
    "## Find the indices of the samples that we want to keep \n",
    "## This is N/M in the text above\n",
    "k = round(orig_sr/target_sr)\n",
    "\n",
    "## Make a list of multiples of k between 0 and the number of samples in y\n",
    "## These are the samples we want to keep after downsampling\n",
    "\n",
    "downsample_index = np.arange(0, len(ys), k)\n",
    "y_ds = ys[downsample_index]\n",
    "Audio(y_ds, rate=target_sr)"
   ]
  },
  {
   "cell_type": "markdown",
   "metadata": {},
   "source": [
    "Something weird has happened to the sweep sound! It seems to go up in frequency and then down again, when before it just went up. This is aliasing! \n",
    "\n",
    "Let's look at the spectrogram to verify: "
   ]
  },
  {
   "cell_type": "code",
   "execution_count": null,
   "metadata": {},
   "outputs": [],
   "source": [
    "fig, ax = plot_spectrogram(y_ds, sr=target_sr, n_fft=512)\n",
    "ax.set(title='Spectrogram: Frequency sweep, downsampled to 8000 Hz (originally 22050 Hz)')\n",
    "\n"
   ]
  },
  {
   "cell_type": "markdown",
   "metadata": {},
   "source": [
    "You should see that the sweep frequencies in the spectrogram start to go down again after 4000 Hz, i.e. half the target sampling rate, the Nyquist Frequency. \n",
    "\n",
    "<div class=\"alert alert-success\" role=\"alert\">\n",
    "For N input samples, The DFT outputs represent N frequencies evenly spaced between 0 Hz and the sampling rate, but we can only actually analyze frequencies up to half the sampling rate (i.e., the Nyquist Frequency) \n",
    "</div>\n",
    "\n",
    "Let's plot the waveform for another view of what's happening. \n",
    "\n",
    "**Task:** You can change the `xlim` values to zoom in to see what is happening at different parts of the recording. \n"
   ]
  },
  {
   "cell_type": "code",
   "execution_count": null,
   "metadata": {},
   "outputs": [],
   "source": [
    "## Get the time samples based on the original sampling rate, by creating an\n",
    "## array of sample indices from 0 to the length of ys (the number of samples in the recording)\n",
    "## Get the time stamps by multplying this array of indices by the sampling period\n",
    "\n",
    "original_time_samples = np.arange(0,len(ys)) * (1/orig_sr)\n",
    "\n",
    "## Similarly, get the time stamps based on the target sampling rate\n",
    "target_time_samples = np.arange(0,len(y_ds)) * (1/target_sr)\n",
    "\n",
    "## Plot both the original waveform and the downsampled one, linking the x-axis for both to be shared\n",
    "fig, axs = plt.subplots(nrows=2, ncols=1, figsize=(16,4), sharex=True)\n",
    "axs[0].plot(original_time_samples, ys, linewidth=0.5, color='green', marker=\".\", label='original wav')\n",
    "axs[1].plot(target_time_samples, y_ds, linewidth=0.5, color='green', marker=\".\", label='downsampled wav')\n",
    "\n",
    "## Set x-axis to zoom in on a specific part of the waveform \n",
    "axs[0].set(xlim=[0.1, 0.2])\n",
    "\n"
   ]
  },
  {
   "cell_type": "markdown",
   "metadata": {},
   "source": [
    "You should see that at the beginning of the waveforms, the sine waves are fairly matched even if there they are not perfectly aligned due to the very naive way we sampled and then reconstructed the time steps for the downsampled version.  \n",
    "\n",
    "Further along in time you'll see that the downsampled sinusoid starts to look abit rough, and after it hits the 4000 Hz, the wave for the downsampled version starts to look like the \"mirror\" frequency of the original wave (e.g. 4500 Hz in the original looks like 3500 Hz in the downsampled version). \n",
    "\n",
    "This is the heart of aliasing: with the lower sample rate we just can't sample fast enough to capture frequencies higher than the Nyquist frequency. Instead we get something that looks like a lower frequency than it actually should be.  \n",
    "\n",
    "This means that if we have frequencies that are higher than half the sample rate in our original sounds when recording, they will still be captured but at the incorrect frequency!  If we want to avoid this we need to remove those higher frequencies before doing any other processing (using filtering).  This is what a \"real\" resampling algorithm would do.\n",
    "\n",
    "The following cell applies [librosa's resampling function](https://librosa.org/doc/latest/generated/librosa.resample.html#librosa-resample) to our sine wave combo plus the sweep.  You'll hear that the lower frequency sine waves are preserved, but the sweep just disappears after it hits 4000 Hz.  \n",
    "\n"
   ]
  },
  {
   "cell_type": "code",
   "execution_count": null,
   "metadata": {},
   "outputs": [],
   "source": [
    "target_sr=8000\n",
    "y_resample = librosa.resample(y_sine_combo +y_sweep, orig_sr=orig_sr, target_sr=target_sr)\n",
    "display(Audio(data=y_resample, rate=target_sr))"
   ]
  },
  {
   "cell_type": "code",
   "execution_count": null,
   "metadata": {},
   "outputs": [],
   "source": [
    "fig, ax = plot_spectrogram(y_resample, sr=target_sr, n_fft=512)\n",
    "ax.set(title='Spectrogram: sine waves and sweek resampled by librosa')"
   ]
  },
  {
   "cell_type": "markdown",
   "metadata": {},
   "source": [
    "# Phase Shifts\n",
    "\n",
    "So far, we've just been focusing on the magnitude spectrum and sine waves. However, if you look at the raw DFT output (before taking the absolute value) you'll find that it also includes phase information. \n",
    "\n",
    "Your default sine wave has the form $sin(2\\pi f t)$ where $f$ is the frequency of the sine wave and $t$ is the time we want to get the amplitude for.  \n",
    "\n",
    "A phase shift tells us to shift the starting point of the sinusoid by some amount, usually expressed in terms of an angle, $\\theta$.  This looks like:  $sin(2\\pi f t + \\theta)$. \n",
    "\n",
    "It's easier to see this visually, so let's generate some sine waves with and without phase shifts.  First, let's make a function to generate sine waves of different frequencies. "
   ]
  },
  {
   "cell_type": "code",
   "execution_count": null,
   "metadata": {},
   "outputs": [],
   "source": [
    "## a function to generate sinusoids, potentially with phase shifts \n",
    "def gen_sine_wave_with_phase_shift(frequency, phase_angle=0, sample_rate=22050, duration=1.0):\n",
    "    ## calculate times for samples given sample rate and specified duration\n",
    "    time_samples = np.linspace(0, duration, int(sample_rate*duration), endpoint=False)\n",
    "\n",
    "    ## Generate amplitudes for a sinusoid of the specific frequency and phase shift for those time steps\n",
    "    amplitudes = np.sin(2 * np.pi * frequency * time_samples + phase_angle)\n",
    "\n",
    "    ## Return both the time steps and the amplitudes\n",
    "    return time_samples, amplitudes"
   ]
  },
  {
   "cell_type": "markdown",
   "metadata": {},
   "source": [
    "Let's generate and plot some sine waves using the function above:\n",
    "\n",
    "**Question:** If we generate sine waves of the same frequency, but different phase shift, will they sound different? "
   ]
  },
  {
   "cell_type": "code",
   "execution_count": null,
   "metadata": {},
   "outputs": [],
   "source": []
  },
  {
   "cell_type": "code",
   "execution_count": null,
   "metadata": {},
   "outputs": [],
   "source": [
    "# Varying the phase of one of the sinusoids changes the look of the wavform but not the how it sounds\n",
    "\n",
    "sr = 22050 ## sampling rate\n",
    "\n",
    "## generate amplitudes for a sine wave of frequency 300Hz with no phase shfit\n",
    "f1=300\n",
    "theta1=0\n",
    "ts, x1 = gen_sine_wave_with_phase_shift(frequency=f1, phase_angle = theta1, sample_rate=sr)\n",
    "\n",
    "## generate amplitudes for a sine wave of frequency 300Hz with a pi/2 = 90 degree phase shift\n",
    "f2=300\n",
    "theta2=np.pi/2\n",
    "ts, x2 = gen_sine_wave_with_phase_shift(frequency=f2, phase_angle = theta2, sample_rate=sr)\n",
    "\n",
    "## Plot x1 and x2 sinusoids as well as x1+x2, so they all share x-axis parameters\n",
    "fig, axs = plt.subplots(nrows=3, ncols=1, figsize=(16,8), sharex=True)\n",
    "axs[0].plot(ts, x1, linewidth=1, color='green', label='wav')\n",
    "axs[1].plot(ts, x2, linewidth=1, color='blue', label='shifted')\n",
    "axs[2].plot(ts, x1+x2, linewidth=1, color='magenta', marker=\".\", label='summed')\n",
    "\n",
    "## Set x-axix parameters - change xlim to zoom into different parts of the waveform\n",
    "axs[0].set(xlim=[0,0.05])\n",
    "axs[0].set(title=\"Sine wave: 300 Hz, no phase shift\")\n",
    "axs[1].set(title=\"Sine wave: 300 Hz, 90 degree phase shift\")\n",
    "axs[2].set(title=\"Sine wave: 300 Hz, no shift and 90 degree phase shift waves summed\")\n",
    "\n",
    "print(f\"x1: {f1} Hz, {theta1} radians phase shift\") \n",
    "display(Audio(x1, rate=22050, normalize=False))\n",
    "\n",
    "print(f\"x2: {f2} Hz, {theta2:.2f} radians phase shift\") \n",
    "display(Audio(x2, rate=22050, normalize=False))\n",
    "\n",
    "print(f\"x1 + x2\") \n",
    "display(Audio(x1+x2, rate=22050, normalize=True))\n"
   ]
  },
  {
   "cell_type": "markdown",
   "metadata": {},
   "source": [
    "You should see that the sine wave with no phase shift starts at time $t=0$ with an amplitude of zero that then regularly rises up and down.  \n",
    "\n",
    "The phase shifted sine wave (middle figure) instead starts at 1, i.e. as if we had shifted 1st sine wave to the left.  This 90 degree phase shifted sine wave is actually equivalent to a cosine wave.  \n",
    "\n",
    "Actually, technically the DFT deals with cosine waves not sine waves but this only affects the phase spectrum, not the magnitude spectrum so we often use the two interchangeably (it does matter if you're trying to interpret the phase spectrum though!).  \n",
    "\n",
    "If we add the two sine waves together (bottom figure), we see that we still get a sine wave of the same frequency but it has a different phase shift again (something between the two we started with).  However, if you listen to the audio for the three sine waves they sound pretty much the same. This perceptual invariance is the primary reason we focus on the magnitude spectrum in speech processing.  \n",
    "\n",
    "**Tasks:** try changing the phase shift in the code above to see the relationship between the period of the sine waves and the phase angle.  \n",
    "* It's easiest to do this in radians where: $2\\pi$ radians equals 360 degrees (so $\\pi/2$ radians = 90 degrees).\n",
    "* What happens when the phase shift is 360 degrees? How about 720 degrees ($4\\pi$ radians).\n",
    "* What happens if you give it a negative phase angle?  \n",
    "\n",
    "**Question:** What happens to the combined wave if you change the second sine wave to be very close but not quite the same as the first sine wave (e.g. 300 vs 310 Hz)? \n"
   ]
  },
  {
   "cell_type": "code",
   "execution_count": null,
   "metadata": {},
   "outputs": [],
   "source": []
  },
  {
   "cell_type": "markdown",
   "metadata": {},
   "source": [
    "## Sine waves and complex sinusoids\n",
    "\n",
    "It can be easier to understand why we talk about phase angles if we look a bit more at what a sine wave actually represents. It's the vertical projection of a rotation of a point around the a circle centred a (0,0).  \n",
    "\n",
    "This is visualised in the following animation, where the **amplitude** of the sine wave matches the **height** of the point as it goes around the circle (the blue dot). \n",
    "\n",
    "![Complex sinusoid to cosine and sine wave gif](../fig/phasor.gif)\n",
    "\n",
    "You can see that one complete period of the sine wave corresponds to a 360 degrees around the circle: ending up back where we started at (1,0).  A phase shift of 90 degrees is the same as starting the \"clock hand\" on the circle after rotating it 90 degrees from the starting point. \n",
    "\n",
    "A cosine wave is the horizontal projection of the same circle (not shown here). You can determine these vertical and horizontal projection using good old trigonometry (though we won't ask you to do this in class!).\n",
    "\n",
    "Increasing the frequency of the sine wave is equivalent to going around the circle faster - we make more cycles in the same amount of time.  "
   ]
  },
  {
   "cell_type": "markdown",
   "metadata": {},
   "source": [
    "# Extension: What is the DFT really? \n",
    "\n",
    "<div class=\"alert alert-warning\">\n",
    "The details in this section about the use of the complex numbers in the DFT are not examinable, but are really just a starting point for further understanding, as well as the details you'd need to actually implement this yourself (which you can do!). \n",
    "</div>\n",
    "\n",
    "The description of the DFT in this course has, thus far, been quite high level and mostly focused on the magnitude spectrum.  We don't really need you to get into all the details of the DFT but it's worth knowing a bit about what the DFT actually outputs, and how it's possible to get both phase and magnitude information from the DFT.  In fact, if you use an off-the-shelf DFT function, like the `fft` function from `numpy`, or the `stft` function from `librosa`, you will get phase and magnitude information out in the first instance, whether you want it or not.  This is why we had to apply the `np.abs` absolute value function before plotting the spectrogram above. \n",
    "\n",
    "\n",
    "\n"
   ]
  },
  {
   "cell_type": "markdown",
   "metadata": {},
   "source": [
    "## The DFT: Waveforms in, complex numbers out\n",
    "\n",
    "The thing that we have been skirting around about the DFT is that it's out is actually a set of complex numbers.  That is, numbers of the form $a+ib$ where $i=\\sqrt{-1}$.  In fact, this is what the 2-D plane on the left of the animation represents: the complex plane.  Each complex number is represented by a 'real' part $a$ and and 'imaginary' part $b$.  \n",
    "\n",
    "When we do the DFT we're actually calculating the similarity between our input waveforms and sinusoids in the complex plane. Because of this, the outputs of the DFT end up being a sequence of complex numbers.  This is why if you look in Jurafsky and Martin, or other textbooks you'll see the DFT defined as: \n",
    "\n",
    "* **Input:**  $N$ amplitude samples over time \n",
    "    * $x[n]$, for $n=0..N-1$ (i.e. a time series of $N$ samples)\n",
    "    \n",
    "    \n",
    "* **Output:** the dot product (i.e., the similiarity) between the input and $N$ complex sinusoids with different frequencies\n",
    "    * DFT[k] $= Me^{-j\\phi}$, i.e. a complex number (in polar form) with **magnitude** $M$ and **phase** angle $\\phi$\n",
    "    * The $N$ DFT outputs represent $N$ equally space frequencies between 0 and the sampling rate.\n",
    "\n",
    "     \n",
    "Where the outputs are calculated using the following formula for $k=0,...N-1$. \n",
    "$$ \n",
    "\\begin{align}\n",
    "DFT[k] &= \\sum_{n=0}^{N-1} x[n] e^{-i \\frac{2\\pi n}{N} k} \\\\\n",
    "\\text{ or equivalently, } DFT[k] &= \\sum_{n=0}^{N-1} x[n]\\big[\\cos(\\frac{2\\pi n}{N} k) - i \\sin(\\frac{2\\pi n}{N} k) \\big] \n",
    "\\end{align}\n",
    "$$\n",
    "\n",
    "That is the output is, N complex numbers from which we extract magnitude and phases of specific complex sinusoids.  The key here is that terms of the form $M e^{-i\\theta}$ are a nifty way to express complex numbers, and from which we can easily read of magnitude ($M$) and phase angle ($\\theta$).   \n",
    "\n",
    "For the Speech Processing course we don't expect you to get into the details of this or calculate the DFT yourself.  But it is important to know that when you apply the `stft` of `fft` functions in python packages, you'll get complex numbers as output.  To get the magnitude spectrum you'll need to take absolute values of those DFT outputs.  \n",
    "\n",
    "It's all actually very neat and if you want to learn more there are some other notebooks here that go through the DFT in more detail. But you can see this for yourself by trying out the [fft](https://numpy.org/doc/stable/reference/generated/numpy.fft.fft.html#numpy.fft.fft) function from the numpy package (which is what the librosa spectrogram generator uses by default). \n",
    "\n"
   ]
  },
  {
   "cell_type": "code",
   "execution_count": null,
   "metadata": {},
   "outputs": [],
   "source": [
    "## import numpy's fft function\n",
    "from numpy.fft import fft\n",
    "\n",
    "## Set the sampling rate to 8000 Hz\n",
    "sr = 8000\n",
    "\n",
    "## Create a sine wave of frequency 300 Hz and no phase shift, sampled at sr Hz\n",
    "ts, xs = gen_sine_wave_with_phase_shift(frequency=300, phase_angle = 0, sample_rate=sr)\n",
    "\n",
    "## Set the size of the DFT input window to N=80 samples\n",
    "N = 80\n",
    "\n",
    "## Get a window consisting of the first 0 to N samples from our waveform\n",
    "current_window = xs[0:N]\n",
    "\n",
    "## Apply the fft (the \"fast\" version of the DFT) to the window of N samples\n",
    "dft_outputs = fft(current_window)\n",
    "\n",
    "## print the output shape of the dft output, check the number of output values is the same as N\n",
    "print(f\"The DFT output shape is {dft_outputs.shape}\")"
   ]
  },
  {
   "cell_type": "code",
   "execution_count": null,
   "metadata": {},
   "outputs": [],
   "source": [
    "## inspect the dft outputs\n",
    "dft_outputs"
   ]
  },
  {
   "cell_type": "markdown",
   "metadata": {},
   "source": [
    "Yikes! That's not exactly easy to read! It can be easier to see what's happening with these complex numbers if we plot the outputs in the complex plane, so let's try that. \n",
    "\n"
   ]
  },
  {
   "cell_type": "code",
   "execution_count": null,
   "metadata": {},
   "outputs": [],
   "source": [
    "## Set up a square plot (4,4)\n",
    "fig, ax = plt.subplots(figsize=(4,4))\n",
    "\n",
    "## Set the axes limits, title, and axis labels\n",
    "ax.set(xlim=[-100,100], ylim=[-100,100], title=\"DFT outputs in the complex plane\", xlabel=\"real component\", ylabel=\"imaginary component\")\n",
    "\n",
    "## Plot horizontal and vertical lines through (0,0) just for reference\n",
    "ax.plot([-200,200], [0,0], color='grey', zorder=0)\n",
    "ax.plot([0,0],[-200,200], color='grey', zorder=0)\n",
    "\n",
    "## Plot our dft outs with the real component on as the x-axis value, and the the imaginary (i) component on the y-axis\n",
    "## Note python uses \"j\" to represent the imaginary number, but you'll see it as \"i\" in most maths textbooks\n",
    "\n",
    "ax.scatter(dft_outputs.real, dft_outputs.imag, zorder=10)\n",
    "\n",
    "## print out formatted versions of the DFT outputs, only if the magnitude is greater than zero\n",
    "print(\"** DFT outputs with positive magnitude**\\n\")\n",
    "\n",
    "## iterate over each dft output index k, and the output value val,\n",
    "for k, val in enumerate(dft_outputs):\n",
    "\n",
    "    ## Check if the current magnitude is greater that zero\n",
    "    ## There are computational issues with representing zeros and very small numbers here, so we'll just approximate\n",
    "    ## zero here with a very small number.\n",
    "    magnitude = np.abs(val)\n",
    "    if np.abs(val) > 0.0000000001:\n",
    "            ## get the phase angle in radians\n",
    "            angle=np.angle(val) \n",
    "            \n",
    "            ## convert it to degrees\n",
    "            angle_in_degrees= 360*angle/(2*np.pi)\n",
    "\n",
    "            ## get the analyses frequency represented by this DFT output\n",
    "            analysis_frequency = k * (sr/N)\n",
    "\n",
    "            ## Print out the dft output value in a+bi format, as well as magnitude and angle\n",
    "            print(f\"dft_outputs[{k}] = {val.real:.2f} + {val.imag:.2f}i\")\n",
    "            print(f\"\\t* magnitude={magnitude:.2f}, angle={angle:.2f} radians\")\n",
    "            print(f\"\\t* angle in degrees = {angle_in_degrees:.2f}\")\n",
    "\n",
    "            ## Print out the analysis frequency\n",
    "            print(f\"\\t* Analysis frequency = {analysis_frequency} Hz\\n\\n\")"
   ]
  },
  {
   "cell_type": "markdown",
   "metadata": {},
   "source": [
    "## The DFT outputs and Aliasing\n",
    "\n",
    "You should see here that we found 2 DFT outputs with non-zero magnitude that corresponding to 300 Hz and 7700 Hz sine waves. \n",
    "Since our sampling rate was 8000 Hz, we can only capture frequencies up to 4000 HZ. The 7700 Hz component is basically due to aliasing. \n",
    "\n",
    "We won't go through the details in this course, but it is worth knowing that if you look at the full DFT output spectrums (e.g. using the numpy `fft` function) you will see this sort of mirroring.  If your input has a component of $f$ Hz, you'll also positive magnitudes for $f$ and $f_s - f$, where $f_s$ is the sampling rate  (e.g., 300Hz, and 7700Hz = 8000-300Hz in the example above.). These mirrored components above the Nyquist frequencies are misleading if you just want to know what frequency components are in your input, which is why we usually discard the upper half of the DFT output.  However, they are necessary if you want to reconstruct the a waveform from the magnitude and phase spectrums (i.e., the _Inverse_ Discrete Fourier Transform).  \n",
    "\n",
    "One more thing to note here is that we see phase angle for the 300 Hz component is -90 degrees. This is because DFT phase shifts are determined relative to cosine waves (which are just sine waves shifted by 90 degrees). \n",
    "\n",
    "If you want more details on this and the mechanics of the DFT in general, you can check out the extension notebooks or [this very nice set of lecture notes by Brian McFee](https://brianmcfee.net/dstbook-site/content/ch05-fourier/intro.html). \n",
    "\n"
   ]
  },
  {
   "cell_type": "markdown",
   "metadata": {},
   "source": [
    "# Practice Exercises\n",
    "\n",
    "\n",
    "1. We have an input of waveform made of 3 sine waves: 100 Hz, 200 Hz, 300 Hz.  The sampling rate $f_s$ is 8000 Hz and number of samples in each frame (i.e. window) is $N=80$. Let's say you put this through the DFT.  \n",
    "* Looking at the _complete_ DFT output, what analysis frequencies would the 80 DFT outputs theoretically represent?\n",
    "* Which of those 80 frequencies can we actually accurately capture? Why?\n",
    "    * Another way to think about it: of those frequencies which would we usually see plotted on a spectrogram? \n",
    "* Out of the analysis frequencies we can capture, which will show positive (i.e. non-zero) magnitudes in the magnitude given our input?\n",
    "\n",
    "2. Now, instead assume that the number of samples $N$ is 100:\n",
    "    * What are the DFT analysis frequencies now?\n",
    "    * Does using this larger input window $N$ give you better frequency resolution? How about time resolution?  \n",
    "    * Which frequencies do you expect will show positive magnitudes given that the window is take from the same input as before?  \n",
    "\n",
    "3. Assume the sampling rate of your waveform is 16000 Hz (instead of 8000 Hz), and your input window is 80 samples.\n",
    "    * What is the range of frequencies you can now capture with the DFT?\n",
    "    * What is the number of analysis frequencies?\n",
    "     \n",
    "4. Assume your sampling rate is 16000 Hz, and your input window size is 100 samples\n",
    "    * What's the length of your input window in seconds?\n",
    "    * What will the DFT show if your input a window from a waveform made up of a 320 Hz component, and a 8640 Hz component, assuming you don't do any pre-filtering of the input?\n"
   ]
  },
  {
   "cell_type": "markdown",
   "metadata": {},
   "source": [
    "# More on the DFT\n",
    "\n",
    "You can find some more notebooks that go through the DFT in more detail here in the extension material here:\n",
    "\n",
    "* [Complex numbers and sinusoids](./extension/signals-1-ext-1-digital-signals-complex-numbers.ipynb)\n",
    "* [Digital Signals: Sampling sinusoids](./extension/signals-1-ext-2-sampling-sinusoids.ipynb)\n",
    "* [The Discrete Fourier Transform](./extension/signals-1-ext-3-discrete-fourier-transform-in-detail.ipynb)\n",
    "* [More on Interpreting the DFT](./extension/signals-1-ext-4-more-interpreting-the-dft.ipynb)\n",
    "\n",
    "As mentioned above, some other good resources are \n",
    "* [Digital Signals Theory by Brian McFee](https://brianmcfee.net/dstbook-site/content/ch05-fourier/intro.html)\n",
    "* [Seeing Circles, Sines and Signals by Jack Schaedler](https://jackschaedler.github.io/circles-sines-signals/index.html)"
   ]
  },
  {
   "cell_type": "markdown",
   "metadata": {},
   "source": [
    "# Extra! Plotting speech\n",
    "\n",
    "This lab has focused on relatively simple audio examples to focus on foundational aspects of digital signal processing.  But at the end of the day we want to use this to visualise and analyse speech. So, let's see if we can make a Praat-like plot here. It's completely fine to just use Praat plots for the assignments, but if you prefer using python you may find this handy for this or other courses. \n",
    "\n",
    "For this, we'll use a sample from generated by the Festival speech synthesis system.   It's the _awb_ voice saying \"Take a picture.  It'll last longer\".  If you want an extra challenge, you can hink about why this speech doesn't sound quite like actual human speech.  But first, Let's load in the TTS sample and plot a spectrogram: "
   ]
  },
  {
   "cell_type": "code",
   "execution_count": null,
   "metadata": {},
   "outputs": [],
   "source": [
    "## Load the file from lab 1: speechproc_phonlab1_2.wav\n",
    "y_awb, sr = librosa.load('../../phon/phon_lab_1/audio/speechproc_phonlab1_2.wav')\n",
    "\n",
    "## Make and audio widget to play it\n",
    "display(Audio(y_awb, rate=sr))                         "
   ]
  },
  {
   "cell_type": "code",
   "execution_count": null,
   "metadata": {},
   "outputs": [],
   "source": [
    "## Plot the spectrogram of the audio you just loaded and check it's what you expected\n",
    "fig, ax = plot_spectrogram(y_awb, sr=sr, n_fft=512)"
   ]
  },
  {
   "cell_type": "code",
   "execution_count": null,
   "metadata": {
    "scrolled": true
   },
   "outputs": [],
   "source": [
    "## Print out the sampling rate to check it's what you expect\n",
    "print(f\"The sampling rate is: {sr} Hz\")"
   ]
  },
  {
   "cell_type": "markdown",
   "metadata": {},
   "source": [
    "## Dealing with textgrids\n",
    "We can read in textgrid information using a package like `praatio`.  But we need to install it first, alongside the package `pandas` if you don't have it already.  `pandas` basically allows to work with table style data (i.e., data frames, like in R) in a convenient way.  "
   ]
  },
  {
   "cell_type": "code",
   "execution_count": null,
   "metadata": {},
   "outputs": [],
   "source": [
    "!pip install praatio \n",
    "!pip install pandas"
   ]
  },
  {
   "cell_type": "markdown",
   "metadata": {},
   "source": [
    "Now, we'll import the textgrid class from `praatio`.  We'll also use the `pandas` package to make some data frames (i.e., tables) to make life easier.  If you're familiar with R, you'll probably find pandas data frames to be somewhat familiar!  \n",
    "\n",
    "Then we can read in an existing textgrid file that has words annotated on a word tier.\n"
   ]
  },
  {
   "cell_type": "code",
   "execution_count": null,
   "metadata": {
    "scrolled": true
   },
   "outputs": [],
   "source": [
    "## import the textgrid class from praatio\n",
    "from praatio import textgrid\n",
    "\n",
    "## import pandas and give it a shortname \"pd\" which we can use to refer to it\n",
    "import pandas as pd\n",
    "\n",
    "## read in the textgrid using the function textgrid.openTextgrid from praatio\n",
    "tg = textgrid.openTextgrid(\"speechproc_phonlab1_2.TextGrid\", includeEmptyIntervals=True) \n",
    "\n",
    "## Get the word tier uing the getTier function\n",
    "words = tg.getTier(\"words\")\n",
    "\n",
    "## inspect the output of getTier from the previous step\n",
    "words    \n"
   ]
  },
  {
   "cell_type": "code",
   "execution_count": null,
   "metadata": {},
   "outputs": [],
   "source": [
    "## convert the words tier entries into a dataframe\n",
    "wordsdf = pd.DataFrame(words.entries)\n",
    "\n",
    "## add a column that's the midpoint in time for each of the words\n",
    "## we'll use this for plotting later\n",
    "wordsdf.loc[:,'midpoint'] = (wordsdf.end + wordsdf.start)/2\n",
    "\n",
    "## output the table\n",
    "wordsdf"
   ]
  },
  {
   "cell_type": "code",
   "execution_count": null,
   "metadata": {},
   "outputs": [],
   "source": [
    "## Use the default matplotlib style with a white background and no grid lines\n",
    "plt.style.use('default')\n",
    "\n",
    "## we want to be more specific with the layout here so we'll set it up in more steps\n",
    "## First start of the figure with just the overall size\n",
    "fig = plt.figure(layout=None,  figsize=(16,4))\n",
    "\n",
    "## Add the title\n",
    "fig.suptitle('A praat-like plot', horizontalalignment=\"center\", fontsize=20)\n",
    "\n",
    "## Specify the layout as a grid, with no vertical space between the subplots\n",
    "gs = fig.add_gridspec(nrows=5, ncols=1,  hspace=0.0, wspace=0.05)\n",
    "\n",
    "## Add the first subplot to span all but the last row of the grid\n",
    "ax_spec = fig.add_subplot(gs[:-1, :])\n",
    "\n",
    "## get the spectrogram info, with DFT inputs of 512 samples\n",
    "N=512\n",
    "window_type=\"hann\"\n",
    "S = np.abs(librosa.stft(y_awb, n_fft=N, window=window_type))\n",
    "\n",
    "## Plot the spectrogram in the first subplot, ax_spec\n",
    "librosa.display.specshow(librosa.amplitude_to_db(S, ref=np.max), sr=sr, hop_length=N//4, \n",
    "                         y_axis='linear', x_axis='s', ax=ax_spec)\n",
    "\n",
    "## Plot vertical lines at the word boundaries\n",
    "ax_spec.vlines(x=wordsdf['start'], ymin=0, ymax=10000, color=\"white\")\n",
    "\n",
    "## Add another subplot for the word tier from the text grid\n",
    "## set the x-axis to be the same as ax_spec\n",
    "ax_words = fig.add_subplot(gs[-1, :], sharex=ax_spec)\n",
    "\n",
    "## Remove y-axis ticks\n",
    "ax_words.set(yticks=[])\n",
    "\n",
    "## A vertical lines at the word boundaries\n",
    "ax_words.vlines(x=wordsdf['start'], ymin=0, ymax=1000, color=\"grey\")\n",
    "\n",
    "## For each row of our word dataframe, plot the word at midpoint time of the word interval\n",
    "for i, row in wordsdf.iterrows():\n",
    "    ax_words.text(x=row['midpoint'], y=500, s=row['label'], color=\"black\", fontsize=16, horizontalalignment=\"center\")\n",
    "\n",
    "ax_spec.set(ylim=[0,4000])\n",
    "\n",
    "## Get reid of x-axis ticks for the spectrogram subplot\n",
    "_ = plt.setp(ax_spec.get_xticklabels(), visible=False)\n",
    "#ax0.set(xticks=[])\n",
    "#ax1.set_xlim(ax0.get_xlim())\n",
    "\n"
   ]
  },
  {
   "cell_type": "markdown",
   "metadata": {},
   "source": [
    "And there it is! \n",
    "\n",
    "**Very optional:** try to add more elements to the plot, e.g. the waveform at the top in another subplot, or an F0 contour.  \n",
    "\n",
    "<div class=\"alert alert-warning\">\n",
    "Warning: matplotlib formatting can very much be a rabbithole and/or time sink! It can be fun to work on visualisations but again, it is perfectly fine just to use the plotting functions in Praat!\n",
    "</div>"
   ]
  },
  {
   "cell_type": "markdown",
   "metadata": {},
   "source": [
    "## Notes"
   ]
  },
  {
   "cell_type": "markdown",
   "metadata": {},
   "source": [
    "_You can use this space to make notes!_"
   ]
  },
  {
   "cell_type": "code",
   "execution_count": null,
   "metadata": {},
   "outputs": [],
   "source": []
  }
 ],
 "metadata": {
  "kernelspec": {
   "display_name": "base",
   "language": "python",
   "name": "python3"
  },
  "language_info": {
   "codemirror_mode": {
    "name": "ipython",
    "version": 3
   },
   "file_extension": ".py",
   "mimetype": "text/x-python",
   "name": "python",
   "nbconvert_exporter": "python",
   "pygments_lexer": "ipython3",
   "version": "3.12.2"
  }
 },
 "nbformat": 4,
 "nbformat_minor": 4
}
